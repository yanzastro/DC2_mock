{
 "cells": [
  {
   "cell_type": "markdown",
   "id": "bbb9c6f0-282c-4f1f-ac47-03c46baa52e8",
   "metadata": {},
   "source": [
    "# This notebook serves as a script to downsample a large mock catalog by randomly selecting a given number of sources."
   ]
  },
  {
   "cell_type": "code",
   "execution_count": 1,
   "id": "28f2b515-3b44-4d53-9dd5-2e2c7913bfe6",
   "metadata": {},
   "outputs": [],
   "source": [
    "import os\n",
    "from astropy.io import fits\n",
    "import matplotlib.pyplot as plt\n",
    "import numpy as np"
   ]
  },
  {
   "cell_type": "code",
   "execution_count": 2,
   "id": "ec1fdb4e-9406-4979-b057-dd226ab97fea",
   "metadata": {},
   "outputs": [],
   "source": [
    "def downsample_cat(cat_path, nsample):\n",
    "    cat_file = fits.open(cat_path, mode=\"update\")\n",
    "    randind = np.random.randint(0, len(cat_file[1].data), nsample)\n",
    "    cat_file[1].data = cat_file[1].data[randind]\n",
    "    out_path = cat_path.split('.')[0]+'_'+str(nsample)+'_cut.'+cat_path.split('.')[1]\n",
    "    cat_file.writeto(out_path, overwrite=True)\n",
    "    return"
   ]
  },
  {
   "cell_type": "code",
   "execution_count": 3,
   "id": "f35b8fe4-526d-4701-bf22-024b656233c5",
   "metadata": {},
   "outputs": [],
   "source": [
    "cat_path = os.path.expanduser('~')+'/DATA/cosmoDC2/cosmodc2_smallsample_magcut.fits'\n",
    "cat_file = fits.open(cat_path, mode=\"update\")\n",
    "zb = cat_file[1].data['redshift']\n",
    "randind = np.random.randint(0, zb.size, 1000000)\n",
    "cat_file[1].data = cat_file[1].data[randind]\n",
    "cat_file.writeto(os.path.expanduser('~')+'/DATA/cosmoDC2/cosmodc2_smallsample_magcut_sparse.fits',\n",
    "                 overwrite=True)"
   ]
  },
  {
   "cell_type": "code",
   "execution_count": 17,
   "id": "94d81bb9-87b8-4148-b487-5ea458a41aa1",
   "metadata": {},
   "outputs": [],
   "source": [
    "downsample_cat(os.path.expanduser('~')+'/DATA/MICE2_KV450/MICE2_deep_uBgVrRciIcYJHKs_shapes_halos_WL.fits', 10000000)"
   ]
  }
 ],
 "metadata": {
  "kernelspec": {
   "display_name": "Python 3",
   "language": "python",
   "name": "python3"
  },
  "language_info": {
   "codemirror_mode": {
    "name": "ipython",
    "version": 3
   },
   "file_extension": ".py",
   "mimetype": "text/x-python",
   "name": "python",
   "nbconvert_exporter": "python",
   "pygments_lexer": "ipython3",
   "version": "3.6.13"
  },
  "widgets": {
   "application/vnd.jupyter.widget-state+json": {
    "state": {},
    "version_major": 2,
    "version_minor": 0
   }
  }
 },
 "nbformat": 4,
 "nbformat_minor": 5
}
