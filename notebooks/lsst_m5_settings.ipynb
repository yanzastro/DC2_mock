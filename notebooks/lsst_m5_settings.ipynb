{
 "cells": [
  {
   "cell_type": "markdown",
   "id": "d34c7545-900c-41d5-a913-a8b09c5c66ae",
   "metadata": {},
   "source": [
    "# This notebook calculates the $5\\sigma$ magnitude limit of LSST. The model can be fround in https://arxiv.org/abs/0805.2366"
   ]
  },
  {
   "cell_type": "code",
   "execution_count": 2,
   "id": "38f26c00-b851-49f5-b3f2-9e64859bd564",
   "metadata": {},
   "outputs": [],
   "source": [
    "import numpy as np\n",
    "import yaml\n"
   ]
  },
  {
   "cell_type": "code",
   "execution_count": 17,
   "id": "db79d1d4-9ffd-45ad-a772-18fe595b9c67",
   "metadata": {},
   "outputs": [],
   "source": [
    "settings = {\n",
    "            \"bandNames\": {  # provided so you can alias the names of the bands\n",
    "                \"u\": \"u\",\n",
    "                \"g\": \"g\",\n",
    "                \"r\": \"r\",\n",
    "                \"i\": \"i\",\n",
    "                \"z\": \"z\",\n",
    "                \"y\": \"y\",\n",
    "            },\n",
    "            \"tvis\": 30.0,  # exposure time for a single visit in seconds, p12\n",
    "            \"nYrObs\": 10.,  # number of years of observations\n",
    "            \"nVisYr\": {  # mean number of visits per year in each filter (T1)\n",
    "                \"u\": 5.6,\n",
    "                \"g\": 8.0,\n",
    "                \"r\": 18.4,\n",
    "                \"i\": 18.4,\n",
    "                \"z\": 16.0,\n",
    "                \"y\": 16.0,\n",
    "            },\n",
    "            \"gamma\": {  # band dependent parameter (T2)\n",
    "                \"u\": 0.038,\n",
    "                \"g\": 0.039,\n",
    "                \"r\": 0.039,\n",
    "                \"i\": 0.039,\n",
    "                \"z\": 0.039,\n",
    "                \"y\": 0.039,\n",
    "            },\n",
    "            \"airmass\": 1.2,  # fiducial airmass (T2)\n",
    "            \"extendedSource\": 0.0,  # constant added to m5 for extended sources\n",
    "            \"sigmaSys\": 0.005,  # expected irreducible error, p26\n",
    "            \"magLim\": 30.0,  # dimmest allowed magnitude; dimmer mags set to ndFlag\n",
    "            \"ndFlag\": np.nan,  # flag for non-detections (all mags > magLim)\n",
    "            \"m5\": {},  # explicit list of m5 limiting magnitudes\n",
    "            \"Cm\": {  # band dependent parameter (T2)\n",
    "                \"u\": 23.09,\n",
    "                \"g\": 24.42,\n",
    "                \"r\": 24.44,\n",
    "                \"i\": 24.32,\n",
    "                \"z\": 24.16,\n",
    "                \"y\": 23.73,\n",
    "            },\n",
    "            \"msky\": {  # median zenith sky brightness at Cerro Pachon (T2)\n",
    "                \"u\": 22.99,\n",
    "                \"g\": 22.26,\n",
    "                \"r\": 21.20,\n",
    "                \"i\": 20.48,\n",
    "                \"z\": 19.60,\n",
    "                \"y\": 18.61,\n",
    "            },\n",
    "            \"theta\": {  # median zenith seeing FWHM, arcseconds (T2)\n",
    "                \"u\": 0.81,\n",
    "                \"g\": 0.77,\n",
    "                \"r\": 0.73,\n",
    "                \"i\": 0.71,\n",
    "                \"z\": 0.69,\n",
    "                \"y\": 0.68,\n",
    "            },\n",
    "            \"km\": {  # atmospheric extinction (T2)\n",
    "                \"u\": 0.491,\n",
    "                \"g\": 0.213,\n",
    "                \"r\": 0.126,\n",
    "                \"i\": 0.096,\n",
    "                \"z\": 0.069,\n",
    "                \"y\": 0.170,\n",
    "            },\n",
    "            \"highSNR\": False,\n",
    "        }"
   ]
  },
  {
   "cell_type": "code",
   "execution_count": 27,
   "id": "18041d3d-9cd2-4e56-aef2-124a7ea9991c",
   "metadata": {},
   "outputs": [],
   "source": [
    "bands = 'ugrizy'\n",
    "\n",
    "m5s = {band: settings[\"Cm\"][band]\n",
    "            + 0.50 * (settings[\"msky\"][band] - 21)\n",
    "            + 2.5 * np.log10(0.7 / settings[\"theta\"][band])\n",
    "            + 1.25 * np.log10(settings[\"tvis\"] / 30)\n",
    "            - settings[\"km\"][band] * (settings[\"airmass\"] - 1)\n",
    "            - settings[\"extendedSource\"] #+ 1.75\n",
    "            for band in bands\n",
    "        }"
   ]
  },
  {
   "cell_type": "code",
   "execution_count": 55,
   "id": "9a7e71f7-e4e1-4221-a92e-3250a896509f",
   "metadata": {},
   "outputs": [],
   "source": [
    "coadded = True  # assuming 10 year accumulative observation\n",
    "Nsigma = 5  # 5-sigma magnitude\n",
    "\n",
    "# and the values for gamma\n",
    "m5 = np.array([m5s[band] for band in 'ugrizy'])\n",
    "\n",
    "gamma = np.array([settings[\"gamma\"][band] for band in bands])\n",
    "\n",
    "# get the number of exposures\n",
    "if coadded:\n",
    "    nVisYr = np.array([settings[\"nVisYr\"][band] for band in bands])\n",
    "    nStackedObs = nVisYr * settings[\"nYrObs\"]\n",
    "else:\n",
    "    nStackedObs = 1\n",
    "\n",
    "# get the irreducible system error\n",
    "if settings[\"highSNR\"]:\n",
    "    nsrSys = self.settings[\"sigmaSys\"]\n",
    "else:\n",
    "    nsrSys = 10 ** (settings[\"sigmaSys\"] / 2.5) - 1\n",
    "\n",
    "# calculate the square of the random NSR that a single exposure must have\n",
    "nsrRandSqSingleExp = (1 / Nsigma ** 2 - nsrSys ** 2) * nStackedObs\n",
    "\n",
    "# calculate the value of x that corresponds to this NSR\n",
    "# note this is just the quadratic equation,\n",
    "# applied to NSR^2 = (0.04 - gamma) * x + gamma * x^2\n",
    "x = (\n",
    "        (gamma - 0.04)\n",
    "        + np.sqrt((gamma - 0.04) ** 2 + 4 * gamma * nsrRandSqSingleExp)\n",
    "     ) / (2 * gamma)\n",
    "\n",
    "# convert x to a limiting magnitude\n",
    "limiting_mags = m5 + 2.5 * np.log10(x)\n",
    "\n",
    "maglim = {bandName: mag for bandName, mag in zip('ugrizy', limiting_mags)}"
   ]
  },
  {
   "cell_type": "code",
   "execution_count": 56,
   "id": "16020878-72e1-439e-a754-8b9abf479cc3",
   "metadata": {},
   "outputs": [],
   "source": [
    "from yaml import Loader\n",
    "config_file = '../scripts/config_yamls/LSST_config.yaml'\n",
    "with open(config_file) as file:\n",
    "    documents = yaml.load(file, Loader=Loader)\n",
    "documents['paths']['DATADIR'] = '${HOME}/DATA/mocks/cosmoDC2/LSST_10yr_mock'\n",
    "documents['photometric_setup']['MAGlims'] = limiting_mags.tolist()"
   ]
  },
  {
   "cell_type": "code",
   "execution_count": 57,
   "id": "a6154cfe-4e19-4098-accc-b31e386538e2",
   "metadata": {},
   "outputs": [],
   "source": [
    "with open('../scripts/config_yamls/LSST_10yr_config.yaml', 'w') as outfile:\n",
    "    yaml.dump(documents, outfile, default_flow_style=False)"
   ]
  }
 ],
 "metadata": {
  "kernelspec": {
   "display_name": "Python 3",
   "language": "python",
   "name": "python3"
  },
  "language_info": {
   "codemirror_mode": {
    "name": "ipython",
    "version": 3
   },
   "file_extension": ".py",
   "mimetype": "text/x-python",
   "name": "python",
   "nbconvert_exporter": "python",
   "pygments_lexer": "ipython3",
   "version": "3.6.13"
  },
  "widgets": {
   "application/vnd.jupyter.widget-state+json": {
    "state": {},
    "version_major": 2,
    "version_minor": 0
   }
  }
 },
 "nbformat": 4,
 "nbformat_minor": 5
}
